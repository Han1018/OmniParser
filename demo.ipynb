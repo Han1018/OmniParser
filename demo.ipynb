{
 "cells": [
  {
   "cell_type": "code",
   "execution_count": 2,
   "metadata": {},
   "outputs": [
    {
     "name": "stdout",
     "output_type": "stream",
     "text": [
      "model to cuda\n"
     ]
    }
   ],
   "source": [
    "from util.utils import get_som_labeled_img, check_ocr_box, get_caption_model_processor, get_yolo_model\n",
    "import torch\n",
    "from ultralytics import YOLO\n",
    "from PIL import Image\n",
    "device = 'cuda'\n",
    "model_path='weights/icon_detect/model.pt'\n",
    "\n",
    "som_model = get_yolo_model(model_path)\n",
    "\n",
    "som_model.to(device)\n",
    "print('model to {}'.format(device))"
   ]
  },
  {
   "cell_type": "code",
   "execution_count": 3,
   "metadata": {},
   "outputs": [
    {
     "name": "stderr",
     "output_type": "stream",
     "text": [
      "Florence2LanguageForConditionalGeneration has generative capabilities, as `prepare_inputs_for_generation` is explicitly overwritten. However, it doesn't directly inherit from `GenerationMixin`. From 👉v4.50👈 onwards, `PreTrainedModel` will NOT inherit from `GenerationMixin`, and this model will lose the ability to call `generate` and other related functions.\n",
      "  - If you're using `trust_remote_code=True`, you can get rid of this warning by loading the model with an auto class. See https://huggingface.co/docs/transformers/en/model_doc/auto#auto-classes\n",
      "  - If you are the owner of the model architecture code, please modify your model class such that it inherits from `GenerationMixin` (after `PreTrainedModel`, otherwise you'll get an exception).\n",
      "  - If you are not the owner of the model architecture class, please contact the model code owner to update it.\n"
     ]
    }
   ],
   "source": [
    "# two choices for caption model: fine-tuned blip2 or florence2\n",
    "import importlib\n",
    "# import util.utils\n",
    "# importlib.reload(utils)\n",
    "from util.utils import get_som_labeled_img, check_ocr_box, get_caption_model_processor, get_yolo_model\n",
    "caption_model_processor = get_caption_model_processor(model_name=\"florence2\", model_name_or_path=\"weights/icon_caption_florence\", device=device)\n",
    "\n"
   ]
  },
  {
   "cell_type": "code",
   "execution_count": 4,
   "metadata": {},
   "outputs": [
    {
     "data": {
      "text/plain": [
       "(device(type='cuda', index=0), ultralytics.models.yolo.model.YOLO)"
      ]
     },
     "execution_count": 4,
     "metadata": {},
     "output_type": "execute_result"
    }
   ],
   "source": [
    "som_model.device, type(som_model) "
   ]
  },
  {
   "cell_type": "code",
   "execution_count": 11,
   "metadata": {},
   "outputs": [
    {
     "name": "stdout",
     "output_type": "stream",
     "text": [
      "image size: (960, 540)\n",
      "\n",
      "0: 736x1280 59 icons, 5.7ms\n",
      "Speed: 2.2ms preprocess, 5.7ms inference, 0.6ms postprocess per image at shape (1, 3, 736, 1280)\n",
      "len(filtered_boxes): 66 26\n",
      "time to get parsed content: 0.14213180541992188\n"
     ]
    }
   ],
   "source": [
    "# reload utils\n",
    "import importlib\n",
    "import utils\n",
    "importlib.reload(utils)\n",
    "# from utils import get_som_labeled_img, check_ocr_box, get_caption_model_processor, get_yolo_model\n",
    "\n",
    "image_path = 'imgs/google_page.png'\n",
    "# image_path = 'imgs/windows_home.png'\n",
    "# image_path = 'imgs/windows_multitab.png'\n",
    "# image_path = 'imgs/omni3.jpg'\n",
    "# image_path = 'imgs/ios.png'\n",
    "# image_path = 'imgs/word.png'\n",
    "# image_path = 'imgs/excel2.png'\n",
    "image_path = \"/home/han/Documents/repos/ShowUI/datasets/ScreenSpot/images/\" + \"pc_db6b6fa2-11cc-4b06-88cb-22c180f07a3b.png\"\n",
    "\n",
    "image = Image.open(image_path)\n",
    "image_rgb = image.convert('RGB')\n",
    "print('image size:', image.size)\n",
    "\n",
    "box_overlay_ratio = max(image.size) / 3200\n",
    "draw_bbox_config = {\n",
    "    'text_scale': 0.8 * box_overlay_ratio,\n",
    "    'text_thickness': max(int(2 * box_overlay_ratio), 1),\n",
    "    'text_padding': max(int(3 * box_overlay_ratio), 1),\n",
    "    'thickness': max(int(3 * box_overlay_ratio), 1),\n",
    "}\n",
    "BOX_TRESHOLD = 0.05\n",
    "\n",
    "import time\n",
    "start = time.time()\n",
    "ocr_bbox_rslt, is_goal_filtered = check_ocr_box(image_path, display_img = False, output_bb_format='xyxy', goal_filtering=None, easyocr_args={'paragraph': False, 'text_threshold':0.9}, use_paddleocr=True)\n",
    "text, ocr_bbox = ocr_bbox_rslt\n",
    "cur_time_ocr = time.time() \n",
    "\n",
    "dino_labled_img, label_coordinates, parsed_content_list = get_som_labeled_img(image_path, som_model, BOX_TRESHOLD = BOX_TRESHOLD, output_coord_in_ratio=True, ocr_bbox=ocr_bbox,draw_bbox_config=draw_bbox_config, caption_model_processor=caption_model_processor, ocr_text=text,use_local_semantics=True, iou_threshold=0.7, scale_img=False, batch_size=128)\n",
    "cur_time_caption = time.time() \n"
   ]
  },
  {
   "cell_type": "code",
   "execution_count": 12,
   "metadata": {},
   "outputs": [],
   "source": [
    "# plot dino_labled_img it is in base64\n",
    "import base64\n",
    "import matplotlib.pyplot as plt\n",
    "import io\n",
    "plt.figure(figsize=(15,15))\n",
    "\n",
    "image = Image.open(io.BytesIO(base64.b64decode(dino_labled_img)))\n",
    "plt.axis('off')\n",
    "\n",
    "plt.imshow(image)\n",
    "# print(len(parsed_content_list))\n",
    "plt.savefig(\"tmp_labeled_img\", bbox_inches='tight', pad_inches=0, dpi=300)\n",
    "# plt.close()  # 關閉圖表，避免顯示\n"
   ]
  },
  {
   "cell_type": "code",
   "execution_count": 8,
   "metadata": {},
   "outputs": [
    {
     "name": "stdout",
     "output_type": "stream",
     "text": [
      "[{'type': 'text', 'bbox': [0.4375, 0.07222222536802292, 0.503125011920929, 0.10925926268100739], 'interactivity': False, 'content': ' Slide Show', 'source': 'box_ocr_content_ocr', 'id': 0}, {'type': 'text', 'bbox': [0.5249999761581421, 0.07037036865949631, 0.5697916746139526, 0.10925926268100739], 'interactivity': False, 'content': ' Review', 'source': 'box_ocr_content_ocr', 'id': 1}, {'type': 'text', 'bbox': [0.5927083492279053, 0.07777778059244156, 0.6239583492279053, 0.10740740597248077], 'interactivity': False, 'content': 'View', 'source': 'box_ocr_content_ocr', 'id': 2}, {'type': 'text', 'bbox': [0.6458333134651184, 0.07592592388391495, 0.6791666746139526, 0.1111111119389534], 'interactivity': False, 'content': 'Help', 'source': 'box_ocr_content_ocr', 'id': 3}, {'type': 'text', 'bbox': [0.04479166492819786, 0.25925925374031067, 0.10520832985639572, 0.2907407283782959], 'interactivity': False, 'content': 'Clipboard', 'source': 'box_ocr_content_ocr', 'id': 4}, {'type': 'text', 'bbox': [0.21145834028720856, 0.25555557012557983, 0.25, 0.2925925850868225], 'interactivity': False, 'content': 'Slides', 'source': 'box_ocr_content_ocr', 'id': 5}, {'type': 'text', 'bbox': [0.40937501192092896, 0.2611111104488373, 0.44062501192092896, 0.2888889014720917], 'interactivity': False, 'content': 'Font', 'source': 'box_ocr_content_ocr', 'id': 6}, {'type': 'text', 'bbox': [0.6937500238418579, 0.25740739703178406, 0.7562500238418579, 0.2944444417953491], 'interactivity': False, 'content': 'Paragraph', 'source': 'box_ocr_content_ocr', 'id': 7}, {'type': 'icon', 'bbox': [0.16880983114242554, 0.12179601937532425, 0.21201260387897491, 0.25701045989990234], 'interactivity': True, 'content': 'New ', 'source': 'box_yolo_content_ocr', 'id': 8}, {'type': 'icon', 'bbox': [0.20997996628284454, 0.11870051920413971, 0.28946030139923096, 0.1691437065601349], 'interactivity': True, 'content': ' Layout + ', 'source': 'box_yolo_content_ocr', 'id': 9}, {'type': 'icon', 'bbox': [0.06180236488580704, 0.061132289469242096, 0.12552526593208313, 0.12088315188884735], 'interactivity': True, 'content': 'Home ', 'source': 'box_yolo_content_ocr', 'id': 10}, {'type': 'icon', 'bbox': [0.2104313224554062, 0.16550154983997345, 0.28975069522857666, 0.21029575169086456], 'interactivity': True, 'content': ' Reset ', 'source': 'box_yolo_content_ocr', 'id': 11}, {'type': 'icon', 'bbox': [0.003381176386028528, 0.12100342661142349, 0.04944930970668793, 0.25404486060142517], 'interactivity': True, 'content': 'Paste ', 'source': 'box_yolo_content_ocr', 'id': 12}, {'type': 'icon', 'bbox': [0.04594292491674423, 0.20730018615722656, 0.15963244438171387, 0.2536792457103729], 'interactivity': True, 'content': 'Format Painter ', 'source': 'box_yolo_content_ocr', 'id': 13}, {'type': 'icon', 'bbox': [0.7410908937454224, 0.1648941934108734, 0.8362413048744202, 0.21026696264743805], 'interactivity': True, 'content': '[] Align Text  ', 'source': 'box_yolo_content_ocr', 'id': 14}, {'type': 'icon', 'bbox': [0.7418168187141418, 0.20814327895641327, 0.8919782042503357, 0.25236910581588745], 'interactivity': True, 'content': 'Convert to SmartArt  ', 'source': 'box_yolo_content_ocr', 'id': 15}, {'type': 'icon', 'bbox': [0.488490492105484, 0.13227075338363647, 0.5106548070907593, 0.18001729249954224], 'interactivity': True, 'content': 'A ', 'source': 'box_yolo_content_ocr', 'id': 16}, {'type': 'icon', 'bbox': [0.046646155416965485, 0.16323447227478027, 0.14803196489810944, 0.2114226520061493], 'interactivity': True, 'content': 'E Copy ', 'source': 'box_yolo_content_ocr', 'id': 17}, {'type': 'icon', 'bbox': [0.0, 0.059955257922410965, 0.06453011929988861, 0.12000235170125961], 'interactivity': True, 'content': 'File ', 'source': 'box_yolo_content_ocr', 'id': 18}, {'type': 'icon', 'bbox': [0.04772942140698433, 0.1195138469338417, 0.15908674895763397, 0.16718415915966034], 'interactivity': True, 'content': 'Cut ', 'source': 'box_yolo_content_ocr', 'id': 19}, {'type': 'icon', 'bbox': [0.5113564729690552, 0.1319408267736435, 0.532692551612854, 0.18050920963287354], 'interactivity': True, 'content': 'A ', 'source': 'box_yolo_content_ocr', 'id': 20}, {'type': 'icon', 'bbox': [0.12790760397911072, 0.059604935348033905, 0.18115024268627167, 0.11962979286909103], 'interactivity': True, 'content': 'Insert ', 'source': 'box_yolo_content_ocr', 'id': 21}, {'type': 'icon', 'bbox': [0.17984938621520996, 0.05941706895828247, 0.3364362120628357, 0.11888512223958969], 'interactivity': True, 'content': 'Design Transitions ', 'source': 'box_yolo_content_ocr', 'id': 22}, {'type': 'icon', 'bbox': [0.9114192724227905, 0.0, 1.0, 0.056102462112903595], 'interactivity': True, 'content': ' Presentation1 ', 'source': 'box_yolo_content_ocr', 'id': 23}, {'type': 'icon', 'bbox': [0.6941364407539368, 0.057384829968214035, 0.8831561803817749, 0.1174335703253746], 'interactivity': True, 'content': ' Tell me what you want to do ', 'source': 'box_yolo_content_ocr', 'id': 24}, {'type': 'icon', 'bbox': [0.3351196348667145, 0.056086063385009766, 0.42727193236351013, 0.119686059653759], 'interactivity': True, 'content': 'Animations ', 'source': 'box_yolo_content_ocr', 'id': 25}, {'type': 'icon', 'bbox': [0.03185265138745308, 0.3203940987586975, 0.305960476398468, 0.6013316512107849], 'interactivity': True, 'content': 'a checkbox.', 'source': 'box_yolo_content_yolo', 'id': 26}, {'type': 'icon', 'bbox': [0.2116214483976364, 0.20721566677093506, 0.29162752628326416, 0.2538715600967407], 'interactivity': True, 'content': 'section', 'source': 'box_yolo_content_yolo', 'id': 27}, {'type': 'icon', 'bbox': [0.2991977035999298, 0.13591033220291138, 0.43895387649536133, 0.18357814848423004], 'interactivity': True, 'content': 'a checkbox.', 'source': 'box_yolo_content_yolo', 'id': 28}, {'type': 'icon', 'bbox': [0.4379068911075592, 0.1320103406906128, 0.48706790804862976, 0.183360293507576], 'interactivity': True, 'content': 'a dropdown menu.', 'source': 'box_yolo_content_yolo', 'id': 29}, {'type': 'icon', 'bbox': [0.492891401052475, 0.19222848117351532, 0.5278622508049011, 0.23749825358390808], 'interactivity': True, 'content': 'Spelling', 'source': 'box_yolo_content_yolo', 'id': 30}, {'type': 'icon', 'bbox': [0.5985105037689209, 0.13206714391708374, 0.6447591185569763, 0.1830323487520218], 'interactivity': True, 'content': 'Decrease', 'source': 'box_yolo_content_yolo', 'id': 31}, {'type': 'icon', 'bbox': [0.5290743708610535, 0.1936248391866684, 0.5643332004547119, 0.23597963154315948], 'interactivity': True, 'content': 'Text formatting options', 'source': 'box_yolo_content_yolo', 'id': 32}, {'type': 'icon', 'bbox': [0.046278633177280426, 0.0021922218147665262, 0.08275434374809265, 0.056669171899557114], 'interactivity': True, 'content': 'Undo', 'source': 'box_yolo_content_yolo', 'id': 33}, {'type': 'icon', 'bbox': [0.015218997374176979, 0.0019093301380053163, 0.045941002666950226, 0.0576898567378521], 'interactivity': True, 'content': 'Page Break', 'source': 'box_yolo_content_yolo', 'id': 34}, {'type': 'icon', 'bbox': [0.11212756484746933, 0.0032028250861912966, 0.14154189825057983, 0.057575639337301254], 'interactivity': True, 'content': 'ShowShow', 'source': 'box_yolo_content_yolo', 'id': 35}, {'type': 'icon', 'bbox': [0.7424048185348511, 0.11810635775327682, 0.8549565672874451, 0.169155091047287], 'interactivity': True, 'content': 'Full-screen Director', 'source': 'box_yolo_content_yolo', 'id': 36}, {'type': 'icon', 'bbox': [0.7078934907913208, 0.13361172378063202, 0.7398501038551331, 0.18142373859882355], 'interactivity': True, 'content': 'Decrease', 'source': 'box_yolo_content_yolo', 'id': 37}, {'type': 'icon', 'bbox': [0.6964402794837952, 0.1939338743686676, 0.7310845851898193, 0.2376096099615097], 'interactivity': True, 'content': 'Decrease', 'source': 'box_yolo_content_yolo', 'id': 38}, {'type': 'icon', 'bbox': [0.08327887952327728, 0.0025994936004281044, 0.10908529907464981, 0.05677323788404465], 'interactivity': True, 'content': 'Refresh', 'source': 'box_yolo_content_yolo', 'id': 39}, {'type': 'icon', 'bbox': [0.5724689364433289, 0.13227272033691406, 0.6039379239082336, 0.18215632438659668], 'interactivity': True, 'content': 'Bullets', 'source': 'box_yolo_content_yolo', 'id': 40}, {'type': 'icon', 'bbox': [0.34632739424705505, 0.19560012221336365, 0.3693723678588867, 0.23449376225471497], 'interactivity': True, 'content': 'Underline', 'source': 'box_yolo_content_yolo', 'id': 41}, {'type': 'icon', 'bbox': [0.3024667203426361, 0.19614414870738983, 0.3227250277996063, 0.23372171819210052], 'interactivity': True, 'content': 'Bold', 'source': 'box_yolo_content_yolo', 'id': 42}, {'type': 'icon', 'bbox': [0.3244825005531311, 0.19564704596996307, 0.34512078762054443, 0.23394529521465302], 'interactivity': True, 'content': 'Italic', 'source': 'box_yolo_content_yolo', 'id': 43}, {'type': 'icon', 'bbox': [0.4461488723754883, 0.19175991415977478, 0.482003390789032, 0.2367325723171234], 'interactivity': True, 'content': 'Show formatting', 'source': 'box_yolo_content_yolo', 'id': 44}, {'type': 'icon', 'bbox': [0.6207357048988342, 0.19329896569252014, 0.6421712636947632, 0.2378142774105072], 'interactivity': True, 'content': 'Justified', 'source': 'box_yolo_content_yolo', 'id': 45}, {'type': 'icon', 'bbox': [0.1440274566411972, 0.004861243534833193, 0.1689259260892868, 0.058046720921993256], 'interactivity': True, 'content': 'Show More Options', 'source': 'box_yolo_content_yolo', 'id': 46}, {'type': 'icon', 'bbox': [0.5732727646827698, 0.19540345668792725, 0.5957213640213013, 0.23795589804649353], 'interactivity': True, 'content': 'Left', 'source': 'box_yolo_content_yolo', 'id': 47}, {'type': 'icon', 'bbox': [0.5403719544410706, 0.13324317336082458, 0.5671368837356567, 0.1828685700893402], 'interactivity': True, 'content': 'Clear', 'source': 'box_yolo_content_yolo', 'id': 48}, {'type': 'icon', 'bbox': [0.5976545810699463, 0.1940605640411377, 0.6187863945960999, 0.23761405050754547], 'interactivity': True, 'content': 'Justified', 'source': 'box_yolo_content_yolo', 'id': 49}, {'type': 'icon', 'bbox': [0.3714192807674408, 0.19507281482219696, 0.3909090757369995, 0.2343762218952179], 'interactivity': True, 'content': 'Skype', 'source': 'box_yolo_content_yolo', 'id': 50}, {'type': 'icon', 'bbox': [0.6784999966621399, 0.1321921944618225, 0.7005756497383118, 0.1810453236103058], 'interactivity': True, 'content': 'Decrease', 'source': 'box_yolo_content_yolo', 'id': 51}, {'type': 'icon', 'bbox': [0.6652605533599854, 0.19213621318340302, 0.6882604956626892, 0.23823606967926025], 'interactivity': True, 'content': 'Justified', 'source': 'box_yolo_content_yolo', 'id': 52}, {'type': 'icon', 'bbox': [0.414596825838089, 0.192068949341774, 0.4463001787662506, 0.23553195595741272], 'interactivity': True, 'content': 'Font Color Yellow', 'source': 'box_yolo_content_yolo', 'id': 53}, {'type': 'icon', 'bbox': [0.6532907485961914, 0.13146978616714478, 0.6782979965209961, 0.18075980246067047], 'interactivity': True, 'content': 'Decrease', 'source': 'box_yolo_content_yolo', 'id': 54}, {'type': 'icon', 'bbox': [0.6431396007537842, 0.19269731640815735, 0.663402795791626, 0.23772446811199188], 'interactivity': True, 'content': 'Justified', 'source': 'box_yolo_content_yolo', 'id': 55}, {'type': 'icon', 'bbox': [0.9009063839912415, 0.16681496798992157, 0.925833523273468, 0.2111835926771164], 'interactivity': True, 'content': 'Maximize', 'source': 'box_yolo_content_yolo', 'id': 56}, {'type': 'icon', 'bbox': [0.3908814489841461, 0.19345444440841675, 0.41845646500587463, 0.2351273000240326], 'interactivity': True, 'content': 'Spelling', 'source': 'box_yolo_content_yolo', 'id': 57}, {'type': 'icon', 'bbox': [0.9014871716499329, 0.1257794201374054, 0.9259206652641296, 0.17538771033287048], 'interactivity': True, 'content': 'Text formatting.', 'source': 'box_yolo_content_yolo', 'id': 58}, {'type': 'icon', 'bbox': [2.775341272354126e-05, 0.0008762147626839578, 0.006884142756462097, 0.0623076967895031], 'interactivity': True, 'content': 'a button to close or close a window.', 'source': 'box_yolo_content_yolo', 'id': 59}, {'type': 'icon', 'bbox': [0.9252236485481262, 0.16324003040790558, 0.9464884400367737, 0.20995044708251953], 'interactivity': True, 'content': 'Triangle', 'source': 'box_yolo_content_yolo', 'id': 60}, {'type': 'icon', 'bbox': [0.9017335772514343, 0.20434369146823883, 0.9259134531021118, 0.2472485601902008], 'interactivity': True, 'content': 'Page', 'source': 'box_yolo_content_yolo', 'id': 61}, {'type': 'icon', 'bbox': [0.17707602679729462, 0.00033974647521972656, 0.33715713024139404, 0.05702129751443863], 'interactivity': True, 'content': 'a button to close or close a window.', 'source': 'box_yolo_content_yolo', 'id': 62}, {'type': 'icon', 'bbox': [0.15054099261760712, 0.26298677921295166, 0.16099828481674194, 0.28810131549835205], 'interactivity': True, 'content': '&Open File', 'source': 'box_yolo_content_yolo', 'id': 63}, {'type': 'icon', 'bbox': [0.5810787081718445, 0.42780977487564087, 1.0, 0.581501305103302], 'interactivity': True, 'content': 'M0,0L9,0 4.5,5z', 'source': 'box_yolo_content_yolo', 'id': 64}, {'type': 'icon', 'bbox': [0.884017825126648, 0.2638503611087799, 0.8940710425376892, 0.287830114364624], 'interactivity': True, 'content': 'Copy to clipboard', 'source': 'box_yolo_content_yolo', 'id': 65}]\n"
     ]
    }
   ],
   "source": [
    "# 增加 id 欄位到 parsed_content_list\n",
    "for idx, item in enumerate(parsed_content_list, start=0):\n",
    "    item['id'] = idx\n",
    "\n",
    "print(parsed_content_list)"
   ]
  },
  {
   "cell_type": "code",
   "execution_count": 9,
   "metadata": {},
   "outputs": [
    {
     "data": {
      "text/html": [
       "<div>\n",
       "<style scoped>\n",
       "    .dataframe tbody tr th:only-of-type {\n",
       "        vertical-align: middle;\n",
       "    }\n",
       "\n",
       "    .dataframe tbody tr th {\n",
       "        vertical-align: top;\n",
       "    }\n",
       "\n",
       "    .dataframe thead th {\n",
       "        text-align: right;\n",
       "    }\n",
       "</style>\n",
       "<table border=\"1\" class=\"dataframe\">\n",
       "  <thead>\n",
       "    <tr style=\"text-align: right;\">\n",
       "      <th></th>\n",
       "      <th>type</th>\n",
       "      <th>bbox</th>\n",
       "      <th>interactivity</th>\n",
       "      <th>content</th>\n",
       "      <th>source</th>\n",
       "      <th>id</th>\n",
       "      <th>ID</th>\n",
       "    </tr>\n",
       "  </thead>\n",
       "  <tbody>\n",
       "    <tr>\n",
       "      <th>0</th>\n",
       "      <td>text</td>\n",
       "      <td>[0.4375, 0.07222222536802292, 0.50312501192092...</td>\n",
       "      <td>False</td>\n",
       "      <td>Slide Show</td>\n",
       "      <td>box_ocr_content_ocr</td>\n",
       "      <td>0</td>\n",
       "      <td>0</td>\n",
       "    </tr>\n",
       "    <tr>\n",
       "      <th>1</th>\n",
       "      <td>text</td>\n",
       "      <td>[0.5249999761581421, 0.07037036865949631, 0.56...</td>\n",
       "      <td>False</td>\n",
       "      <td>Review</td>\n",
       "      <td>box_ocr_content_ocr</td>\n",
       "      <td>1</td>\n",
       "      <td>1</td>\n",
       "    </tr>\n",
       "    <tr>\n",
       "      <th>2</th>\n",
       "      <td>text</td>\n",
       "      <td>[0.5927083492279053, 0.07777778059244156, 0.62...</td>\n",
       "      <td>False</td>\n",
       "      <td>View</td>\n",
       "      <td>box_ocr_content_ocr</td>\n",
       "      <td>2</td>\n",
       "      <td>2</td>\n",
       "    </tr>\n",
       "    <tr>\n",
       "      <th>3</th>\n",
       "      <td>text</td>\n",
       "      <td>[0.6458333134651184, 0.07592592388391495, 0.67...</td>\n",
       "      <td>False</td>\n",
       "      <td>Help</td>\n",
       "      <td>box_ocr_content_ocr</td>\n",
       "      <td>3</td>\n",
       "      <td>3</td>\n",
       "    </tr>\n",
       "    <tr>\n",
       "      <th>4</th>\n",
       "      <td>text</td>\n",
       "      <td>[0.04479166492819786, 0.25925925374031067, 0.1...</td>\n",
       "      <td>False</td>\n",
       "      <td>Clipboard</td>\n",
       "      <td>box_ocr_content_ocr</td>\n",
       "      <td>4</td>\n",
       "      <td>4</td>\n",
       "    </tr>\n",
       "    <tr>\n",
       "      <th>...</th>\n",
       "      <td>...</td>\n",
       "      <td>...</td>\n",
       "      <td>...</td>\n",
       "      <td>...</td>\n",
       "      <td>...</td>\n",
       "      <td>...</td>\n",
       "      <td>...</td>\n",
       "    </tr>\n",
       "    <tr>\n",
       "      <th>61</th>\n",
       "      <td>icon</td>\n",
       "      <td>[0.9017335772514343, 0.20434369146823883, 0.92...</td>\n",
       "      <td>True</td>\n",
       "      <td>Page</td>\n",
       "      <td>box_yolo_content_yolo</td>\n",
       "      <td>61</td>\n",
       "      <td>61</td>\n",
       "    </tr>\n",
       "    <tr>\n",
       "      <th>62</th>\n",
       "      <td>icon</td>\n",
       "      <td>[0.17707602679729462, 0.00033974647521972656, ...</td>\n",
       "      <td>True</td>\n",
       "      <td>a button to close or close a window.</td>\n",
       "      <td>box_yolo_content_yolo</td>\n",
       "      <td>62</td>\n",
       "      <td>62</td>\n",
       "    </tr>\n",
       "    <tr>\n",
       "      <th>63</th>\n",
       "      <td>icon</td>\n",
       "      <td>[0.15054099261760712, 0.26298677921295166, 0.1...</td>\n",
       "      <td>True</td>\n",
       "      <td>&amp;Open File</td>\n",
       "      <td>box_yolo_content_yolo</td>\n",
       "      <td>63</td>\n",
       "      <td>63</td>\n",
       "    </tr>\n",
       "    <tr>\n",
       "      <th>64</th>\n",
       "      <td>icon</td>\n",
       "      <td>[0.5810787081718445, 0.42780977487564087, 1.0,...</td>\n",
       "      <td>True</td>\n",
       "      <td>M0,0L9,0 4.5,5z</td>\n",
       "      <td>box_yolo_content_yolo</td>\n",
       "      <td>64</td>\n",
       "      <td>64</td>\n",
       "    </tr>\n",
       "    <tr>\n",
       "      <th>65</th>\n",
       "      <td>icon</td>\n",
       "      <td>[0.884017825126648, 0.2638503611087799, 0.8940...</td>\n",
       "      <td>True</td>\n",
       "      <td>Copy to clipboard</td>\n",
       "      <td>box_yolo_content_yolo</td>\n",
       "      <td>65</td>\n",
       "      <td>65</td>\n",
       "    </tr>\n",
       "  </tbody>\n",
       "</table>\n",
       "<p>66 rows × 7 columns</p>\n",
       "</div>"
      ],
      "text/plain": [
       "    type                                               bbox  interactivity  \\\n",
       "0   text  [0.4375, 0.07222222536802292, 0.50312501192092...          False   \n",
       "1   text  [0.5249999761581421, 0.07037036865949631, 0.56...          False   \n",
       "2   text  [0.5927083492279053, 0.07777778059244156, 0.62...          False   \n",
       "3   text  [0.6458333134651184, 0.07592592388391495, 0.67...          False   \n",
       "4   text  [0.04479166492819786, 0.25925925374031067, 0.1...          False   \n",
       "..   ...                                                ...            ...   \n",
       "61  icon  [0.9017335772514343, 0.20434369146823883, 0.92...           True   \n",
       "62  icon  [0.17707602679729462, 0.00033974647521972656, ...           True   \n",
       "63  icon  [0.15054099261760712, 0.26298677921295166, 0.1...           True   \n",
       "64  icon  [0.5810787081718445, 0.42780977487564087, 1.0,...           True   \n",
       "65  icon  [0.884017825126648, 0.2638503611087799, 0.8940...           True   \n",
       "\n",
       "                                 content                 source  id  ID  \n",
       "0                             Slide Show    box_ocr_content_ocr   0   0  \n",
       "1                                 Review    box_ocr_content_ocr   1   1  \n",
       "2                                   View    box_ocr_content_ocr   2   2  \n",
       "3                                   Help    box_ocr_content_ocr   3   3  \n",
       "4                              Clipboard    box_ocr_content_ocr   4   4  \n",
       "..                                   ...                    ...  ..  ..  \n",
       "61                                  Page  box_yolo_content_yolo  61  61  \n",
       "62  a button to close or close a window.  box_yolo_content_yolo  62  62  \n",
       "63                            &Open File  box_yolo_content_yolo  63  63  \n",
       "64                       M0,0L9,0 4.5,5z  box_yolo_content_yolo  64  64  \n",
       "65                     Copy to clipboard  box_yolo_content_yolo  65  65  \n",
       "\n",
       "[66 rows x 7 columns]"
      ]
     },
     "execution_count": 9,
     "metadata": {},
     "output_type": "execute_result"
    }
   ],
   "source": [
    "import pandas as pd\n",
    "df = pd.DataFrame(parsed_content_list)\n",
    "df['ID'] = range(len(df))\n",
    "\n",
    "df"
   ]
  },
  {
   "cell_type": "code",
   "execution_count": 10,
   "metadata": {},
   "outputs": [
    {
     "ename": "IndexError",
     "evalue": "list index out of range",
     "output_type": "error",
     "traceback": [
      "\u001b[0;31m---------------------------------------------------------------------------\u001b[0m",
      "\u001b[0;31mIndexError\u001b[0m                                Traceback (most recent call last)",
      "Cell \u001b[0;32mIn[10], line 1\u001b[0m\n\u001b[0;32m----> 1\u001b[0m \u001b[43mparsed_content_list\u001b[49m\u001b[43m[\u001b[49m\u001b[38;5;241;43m93\u001b[39;49m\u001b[43m]\u001b[49m\n",
      "\u001b[0;31mIndexError\u001b[0m: list index out of range"
     ]
    }
   ],
   "source": [
    "parsed_content_list[93]"
   ]
  }
 ],
 "metadata": {
  "kernelspec": {
   "display_name": "omni",
   "language": "python",
   "name": "python3"
  },
  "language_info": {
   "codemirror_mode": {
    "name": "ipython",
    "version": 3
   },
   "file_extension": ".py",
   "mimetype": "text/x-python",
   "name": "python",
   "nbconvert_exporter": "python",
   "pygments_lexer": "ipython3",
   "version": "3.12.9"
  }
 },
 "nbformat": 4,
 "nbformat_minor": 2
}
